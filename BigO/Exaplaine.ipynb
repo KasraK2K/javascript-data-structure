{
 "cells": [
  {
   "attachments": {},
   "cell_type": "markdown",
   "metadata": {},
   "source": [
    "## BigO Rules\n",
    "___\n",
    "In BigO we have to consider 4 important rules.\n",
    "\n",
    "### 1. `Worste Case`\n",
    "  In this rule we should to consider worst scenario. for example if we are finding `nemo` in array by using for loop we should consider that is posible to nemo be the last element of array not the first one.\n",
    "___\n",
    "\n",
    "### 2. `Remove Constants`\n",
    "___\n",
    "\n",
    "### 3. `Different terms for inputs`\n",
    "___\n",
    "\n",
    "### 4. `Drop Non Dominants`"
   ]
  }
 ],
 "metadata": {
  "language_info": {
   "name": "python"
  },
  "orig_nbformat": 4
 },
 "nbformat": 4,
 "nbformat_minor": 2
}
