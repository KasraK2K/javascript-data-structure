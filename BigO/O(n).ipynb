{
 "cells": [
  {
   "attachments": {},
   "cell_type": "markdown",
   "metadata": {},
   "source": [
    "`Linear Time` - Increase data is equal to increase number of operation linear"
   ]
  },
  {
   "cell_type": "code",
   "execution_count": 1,
   "metadata": {},
   "outputs": [
    {
     "name": "stdout",
     "output_type": "stream",
     "text": [
      "O(n): found Nemo!\n"
     ]
    }
   ],
   "source": [
    "var nemo = ['nemo'];\n",
    "\n",
    "function findNemo(array) {\n",
    "  for (let i = 0; i < array.length; i++) {\n",
    "    if (array[i] === 'nemo') {\n",
    "      console.log('O(n): found Nemo!');\n",
    "    }\n",
    "  }\n",
    "}\n",
    "\n",
    "findNemo(nemo); // O(n)"
   ]
  }
 ],
 "metadata": {
  "kernelspec": {
   "display_name": "JavaScript (Node.js)",
   "language": "javascript",
   "name": "javascript"
  },
  "language_info": {
   "file_extension": ".js",
   "mimetype": "application/javascript",
   "name": "javascript",
   "version": "19.7.0"
  },
  "orig_nbformat": 4
 },
 "nbformat": 4,
 "nbformat_minor": 2
}
