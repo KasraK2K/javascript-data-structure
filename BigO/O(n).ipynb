{
 "cells": [
  {
   "attachments": {},
   "cell_type": "markdown",
   "metadata": {},
   "source": [
    "`Linear Time` - Increase data is equal to increase number of operation linear"
   ]
  },
  {
   "cell_type": "code",
   "execution_count": 2,
   "metadata": {},
   "outputs": [
    {
     "name": "stdout",
     "output_type": "stream",
     "text": [
      "O(n): found Memo!\n"
     ]
    }
   ],
   "source": [
    "var memo = ['memo'];\n",
    "\n",
    "function findMemo(array) {\n",
    "  for (let i = 0; i < array.length; i++) {\n",
    "    if (array[i] === 'memo') {\n",
    "      console.log('O(n): found Memo!');\n",
    "    }\n",
    "  }\n",
    "}\n",
    "\n",
    "findMemo(memo); // O(n)"
   ]
  }
 ],
 "metadata": {
  "kernelspec": {
   "display_name": "JavaScript (Node.js)",
   "language": "javascript",
   "name": "javascript"
  },
  "language_info": {
   "file_extension": ".js",
   "mimetype": "application/javascript",
   "name": "javascript",
   "version": "19.7.0"
  },
  "orig_nbformat": 4
 },
 "nbformat": 4,
 "nbformat_minor": 2
}
