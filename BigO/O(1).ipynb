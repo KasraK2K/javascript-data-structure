{
 "cells": [
  {
   "attachments": {},
   "cell_type": "markdown",
   "metadata": {},
   "source": [
    "`Constant Time` - No defrences by increase data it takes constant time"
   ]
  },
  {
   "cell_type": "code",
   "execution_count": 1,
   "metadata": {},
   "outputs": [
    {
     "name": "stdout",
     "output_type": "stream",
     "text": [
      "O(1): Kasra\n"
     ]
    }
   ],
   "source": [
    "var names = Array(1000).fill(\"Kasra\");\n",
    "\n",
    "function logFirst(array) {\n",
    "  console.log(\"O(1):\", array[0]);\n",
    "}\n",
    "\n",
    "logFirst(names); // O(1)"
   ]
  }
 ],
 "metadata": {
  "kernelspec": {
   "display_name": "JavaScript (Node.js)",
   "language": "javascript",
   "name": "javascript"
  },
  "language_info": {
   "file_extension": ".js",
   "mimetype": "application/javascript",
   "name": "javascript",
   "version": "19.7.0"
  },
  "orig_nbformat": 4
 },
 "nbformat": 4,
 "nbformat_minor": 2
}
